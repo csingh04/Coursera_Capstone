{
 "cells": [
  {
   "cell_type": "markdown",
   "metadata": {
    "collapsed": true
   },
   "source": [
    "# A description of the problem and a discussion of the background."
   ]
  },
  {
   "cell_type": "markdown",
   "metadata": {},
   "source": [
    "Suppose a company wants to segment neighborhoods of two cities, in this case, Toronto and New York, in terms of venues to see how similar or dissimilar they are.\n",
    "\n",
    "One of the marketing company which already has office in New york are now expanding the business to Canada. Toronto being the financial capital this company would like to see how similar the city is to understand if the same marketing strategy could be used for Toronto as well.\n",
    "\n",
    "This is a small company and as such we are using Geographic segmentation as it allows allows small businesses with limited budgets to be more cost effective."
   ]
  },
  {
   "cell_type": "markdown",
   "metadata": {},
   "source": [
    "# A description of the data and how it will be used to solve the problem."
   ]
  },
  {
   "cell_type": "markdown",
   "metadata": {},
   "source": [
    "#### New york and Toronto data \n",
    "\n",
    "I would be using the data set used in Module 3 for convenience for both New york and Toronto.\n",
    "\n",
    "https://en.wikipedia.org/wiki/List_of_postal_codes_of_Canada:_M</p>\n",
    "https://geo.nyu.edu/catalog/nyu_2451_34572</p>\n",
    "https://cocl.us/new_york_dataset</p>\n",
    "\n",
    "I will also use geopy library to get the latitude and longitude values of both cities.\n",
    "\n",
    "We are going to utilize the Foursquare API to explore the neighborhoods and segment them.\n"
   ]
  },
  {
   "cell_type": "code",
   "execution_count": null,
   "metadata": {},
   "outputs": [],
   "source": []
  }
 ],
 "metadata": {
  "kernelspec": {
   "display_name": "Python 3.6",
   "language": "python",
   "name": "python3"
  },
  "language_info": {
   "codemirror_mode": {
    "name": "ipython",
    "version": 3
   },
   "file_extension": ".py",
   "mimetype": "text/x-python",
   "name": "python",
   "nbconvert_exporter": "python",
   "pygments_lexer": "ipython3",
   "version": "3.6.8"
  }
 },
 "nbformat": 4,
 "nbformat_minor": 1
}
