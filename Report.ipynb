{
 "cells": [
  {
   "cell_type": "markdown",
   "metadata": {
    "collapsed": true
   },
   "source": [
    "# Introduction"
   ]
  },
  {
   "cell_type": "markdown",
   "metadata": {},
   "source": [
    "#### Suppose a company wants to segment neighborhoods of two cities, in this case, Toronto and New York, in terms of venues to see how similar or dissimilar they are.\n",
    "\n",
    "One of the marketing company which already has office in New york are now expanding the business to Canada. Toronto being the financial capital this company would like to see how similar the city is to understand if the same marketing strategy could be used for Toronto as well."
   ]
  },
  {
   "cell_type": "markdown",
   "metadata": {},
   "source": [
    "# Data\n",
    "I would be using the data set used in Module 3 for convenience for both New york and Toronto.\n",
    "I will also use geopy library to get the latitude and longitude values of both cities.\n",
    "We are going to utilize the Foursquare API to explore the neighborhoods and segment them.\n"
   ]
  },
  {
   "attachments": {},
   "cell_type": "markdown",
   "metadata": {},
   "source": [
    "# Methodology\n",
    "\n",
    "I started with importing the boroughs and neighborhood list of Toronto from Wikipedia and converted it to data frame using pandas package in python. Then, Another data set comprised of location data of neighborhood and boroughs was imported. It was in .csv format and then converted to data frame. After Cleaning the data set, two tables were merged to get the final Toronto neighborhood data set.\n",
    "Then, Geo location data of New York were imported. it was in .json format. Neighborhoods, Boroughs and their corresponding latitude and longitude were filtered out and converted to a data frame.\n",
    "\n",
    "After having neighborhood location data, for each neighborhood, using Foursquare API, all venues data were imported into two data frame for Toronto and New York.\n",
    "Then I used KMeans Clustering to cluster all the neighborhoods, once for Toronto and once for New York. I took number of clusters as 5 for both cities. Sci-kit learn package of python was used. Then, the cluster labels were assigned to each neighborhoods."
   ]
  },
  {
   "cell_type": "markdown",
   "metadata": {},
   "source": [
    "# Result & Conclusion"
   ]
  },
  {
   "cell_type": "markdown",
   "metadata": {},
   "source": [
    "It can be seen that Toronto has one big cluster (83% of the neighborhoods) and a smaller one.  Other three clusters are insignificant compared to them. For New York, there are two big (45% and 41% of the neighborhoods) and one mid size clusters. Other two clusters are insignificant compared to them. So, we see Toronto seems to have more uniform neighborhood type.  New York has much more varieties. So, segmentation is different.\n",
    "\n",
    "In conclusion the strategy would need to be changed for Toronto or we could use the strategy that has been used where there is best sales in Newyork as Toronto has more uniform neighborhood.\n"
   ]
  },
  {
   "cell_type": "code",
   "execution_count": null,
   "metadata": {},
   "outputs": [],
   "source": []
  }
 ],
 "metadata": {
  "kernelspec": {
   "display_name": "Python 3.6",
   "language": "python",
   "name": "python3"
  },
  "language_info": {
   "codemirror_mode": {
    "name": "ipython",
    "version": 3
   },
   "file_extension": ".py",
   "mimetype": "text/x-python",
   "name": "python",
   "nbconvert_exporter": "python",
   "pygments_lexer": "ipython3",
   "version": "3.6.8"
  }
 },
 "nbformat": 4,
 "nbformat_minor": 1
}
